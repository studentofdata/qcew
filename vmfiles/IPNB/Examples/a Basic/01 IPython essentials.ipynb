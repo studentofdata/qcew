{
 "cells": [
  {
   "cell_type": "markdown",
   "metadata": {
    "collapsed": true
   },
   "source": [
    "# IPython/Notebook essentials"
   ]
  },
  {
   "cell_type": "markdown",
   "metadata": {},
   "source": [
    "A notebook is a document formed by cells; each cell can contain Python code to execute (cell type *Code*) or documentation (cell type [*Markdown*](https://daringfireball.net/projects/markdown/syntax), also including [*Heading markdown*](https://daringfireball.net/projects/markdown/syntax#header)). There are also other, more exotic, cell types.\n",
    "\n",
    "A cell is executed by pressing `Ctrl-RETURN` on it (or `Shift-RETURN` to execute and advance to the next cell). The outcome of the computation (typically the result of the last statement) is output to the notebook (unless the statement is ended by a semicolon). Explicit output is also possible, using `print` statements.\n",
    "\n",
    "The top menu in a notebook has a *Help* entry with generic information on the notebook interface, as well as links to the documentation for IPython and for relevant Python libraries. First-time users should start by clicking on the **User Interface Tour** in that Help menu.\n",
    "\n",
    "\"Code\" notebook cells execute IPython code. IPython is standard Python, with facilities added for interactive execution. It also provides online help at any moment. To launch it, use the question mark. Try it now by executing the following cell:"
   ]
  },
  {
   "cell_type": "code",
   "execution_count": 1,
   "metadata": {
    "collapsed": true
   },
   "outputs": [],
   "source": [
    "?"
   ]
  },
  {
   "cell_type": "markdown",
   "metadata": {},
   "source": [
    "It is also possible to obtain help for specific Python methods, classes or functions. For instance, execute the following cell:"
   ]
  },
  {
   "cell_type": "code",
   "execution_count": null,
   "metadata": {
    "collapsed": true
   },
   "outputs": [],
   "source": [
    "?str.split"
   ]
  },
  {
   "cell_type": "markdown",
   "metadata": {},
   "source": [
    "There is also contextual help (tooltips) and autocompletion: \n",
    "* `<shift-TAB>` brings in Python documentation for the object _just before_ the cursor, by opening a help window (pressing `<shift-TAB>` again will enlarge that window)\n",
    "* `TAB` performs automatic completion (or shows a list for selection) for methods, variables and arguments"
   ]
  },
  {
   "cell_type": "code",
   "execution_count": null,
   "metadata": {
    "collapsed": false
   },
   "outputs": [],
   "source": [
    "str.split  # <--- try putting the edit cursor at the end and pressing <shift-TAB> or <TAB>"
   ]
  },
  {
   "cell_type": "markdown",
   "metadata": {
    "collapsed": true
   },
   "source": [
    "For people new to notebooks, please use now the **Help/User Interface Tour** menu entry to get a feeling on the capabilities of the user interface."
   ]
  },
  {
   "cell_type": "markdown",
   "metadata": {},
   "source": [
    "## Magics\n",
    "\n",
    "IPython also provides [magics](http://nbviewer.ipython.org/github/ipython/ipython/blob/1.x/examples/notebooks/Cell%20Magics.ipynb), which are non-Python commands that start with a `%` (line magic) or a `%%` (cell magic) and perform some special processing, like configuring some notebook feature, or running code in other languages\n",
    "\n",
    "The `%lsmagic` command provides a list of all defined magics. Execute the following cell:"
   ]
  },
  {
   "cell_type": "code",
   "execution_count": null,
   "metadata": {
    "collapsed": false
   },
   "outputs": [],
   "source": [
    "%lsmagic"
   ]
  },
  {
   "cell_type": "markdown",
   "metadata": {},
   "source": [
    "## Extensions"
   ]
  },
  {
   "cell_type": "markdown",
   "metadata": {},
   "source": [
    "A notebook deployment may contain extensions, which add additional functionality to the standard base software.\n",
    "\n",
    "This deployment comes with two such extensions preinstalled:\n",
    "* a ToC (*Table of Contents*) extension, which can display all the headings in a notebook as a floating menu. This comes especially handy to navigate long notebooks.\n",
    "The extension adds a small ToC icon to the right of the toolbar. Click on it to activate/deactivate the ToC for the current notebook.\n",
    "* A \"Toggle headers\" button added to the right side of the menubar. This switches on/off at the same time both the heading and the toolbar, maximizing space for the notebook.\n",
    "\n",
    "These extensions have also keyboard shortcuts.\n",
    "\n",
    "The deployment also contains a *Search bar* extension (to be able to search strings within all cells in a notebook, and optionally also replace them). But it is deactivated by default, since Jupyter 4.1 already comes with a find/replace menu option (in the _Edit_ menu)."
   ]
  },
  {
   "cell_type": "markdown",
   "metadata": {
    "collapsed": true
   },
   "source": [
    "## Memory management"
   ]
  },
  {
   "cell_type": "markdown",
   "metadata": {},
   "source": [
    "**Important**: Since every notebook started launches a kernel with Spark support, it consumes a sizable amount of memory. Therefore there is a not-too-high limit on the number of notebooks that can be running at the same time. If that limit is exceeded, an error will be generated. There are two solutions:\n",
    "* Close some of the open notebooks (shutdown their kernels). This can be done in the notebook browser.\n",
    "* Increase the RAM assigned to the virtual machine running the notebooks. This can be adjusted in the `Vagrantfile` and is 2 GB by default"
   ]
  }
 ],
 "metadata": {
  "kernelspec": {
   "display_name": "Python 2",
   "language": "python",
   "name": "python2"
  },
  "language_info": {
   "codemirror_mode": {
    "name": "ipython",
    "version": 2
   },
   "file_extension": ".py",
   "mimetype": "text/x-python",
   "name": "python",
   "nbconvert_exporter": "python",
   "pygments_lexer": "ipython2",
   "version": "2.7.5"
  }
 },
 "nbformat": 4,
 "nbformat_minor": 0
}
