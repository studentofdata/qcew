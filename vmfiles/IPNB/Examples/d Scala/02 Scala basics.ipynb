{
 "cells": [
  {
   "cell_type": "markdown",
   "metadata": {},
   "source": [
    "# Some scala basics\n",
    "\n",
    "A few very simple characteristics of the [Scala language](http://docs.scala-lang.org/index.html). No Spark specifics yet.\n",
    "\n",
    "Mostly taken from *[A short primer on Scala](http://hortonworks.com/hadoop-tutorial/primer-on-scala/)*. See also additional documentation in [Scala overviews](http://docs.scala-lang.org/overviews/) and the [Scala cheatsheet](http://docs.scala-lang.org/cheatsheets/)\n",
    "\n",
    "\n",
    "In terms of general syntax, Scala is quite similar to Java. One difference is that it is less picky with semicolons: they are optional at the end of the line."
   ]
  },
  {
   "cell_type": "markdown",
   "metadata": {},
   "source": [
    "## Variables"
   ]
  },
  {
   "cell_type": "markdown",
   "metadata": {},
   "source": [
    "Mutable and immutable values. Type inference"
   ]
  },
  {
   "cell_type": "code",
   "execution_count": 6,
   "metadata": {
    "collapsed": false
   },
   "outputs": [
    {
     "name": "stdout",
     "output_type": "stream",
     "text": [
      "6\n",
      "(6.2,Hi!)\n",
      "(6.2,Hi!)\n",
      "(double,class java.lang.String)\n"
     ]
    }
   ],
   "source": [
    "// A mutable variable, defined with explicit type specification\n",
    "var a: Int = 5\n",
    "a = a + 1\n",
    "println(a)\n",
    "\n",
    "// Inmutable variables\n",
    "val v1: Double = 6.2\n",
    "val v2: String = \"Hi!\"\n",
    "println( v1, v2)\n",
    "\n",
    "// Same as before, but now we use type inference\n",
    "val v1 = 6.2\n",
    "val v2 = \"Hi!\"\n",
    "println( v1, v2)\n",
    "println( v1.getClass, v2.getClass )"
   ]
  },
  {
   "cell_type": "markdown",
   "metadata": {},
   "source": [
    "## Functions"
   ]
  },
  {
   "cell_type": "code",
   "execution_count": 6,
   "metadata": {
    "collapsed": true
   },
   "outputs": [],
   "source": [
    "/* Define a function. This one is a one-liner, otherwise we would use braces */\n",
    "def fact(n: Int): Int =  if (n == 0) 1 else n*fact(n-1)"
   ]
  },
  {
   "cell_type": "code",
   "execution_count": 7,
   "metadata": {
    "collapsed": false
   },
   "outputs": [
    {
     "data": {
      "text/plain": [
       "3628800"
      ]
     },
     "execution_count": 7,
     "metadata": {},
     "output_type": "execute_result"
    }
   ],
   "source": [
    "// Use the function\n",
    "fact(10)"
   ]
  },
  {
   "cell_type": "markdown",
   "metadata": {},
   "source": [
    "### Anonymous functions\n",
    "\n",
    "Functions can also be defined on the fly. \n",
    "Anonymous functions can be assigned to a variable so that we can call it later"
   ]
  },
  {
   "cell_type": "code",
   "execution_count": 2,
   "metadata": {
    "collapsed": false
   },
   "outputs": [
    {
     "data": {
      "text/plain": [
       "343"
      ]
     },
     "execution_count": 2,
     "metadata": {},
     "output_type": "execute_result"
    }
   ],
   "source": [
    "// A function, with type specification\n",
    "// (if the context was clear, we could use type inference)\n",
    "val cube = (x : Int)  => x*x*x\n",
    "\n",
    "cube(7)"
   ]
  },
  {
   "cell_type": "code",
   "execution_count": 4,
   "metadata": {
    "collapsed": false
   },
   "outputs": [
    {
     "data": {
      "text/plain": [
       "125.0"
      ]
     },
     "execution_count": 4,
     "metadata": {},
     "output_type": "execute_result"
    }
   ],
   "source": [
    "// Same thing, but using explicit return type specification\n",
    "val cube: Int => Double = x => x*x*x\n",
    "\n",
    "cube(5)"
   ]
  },
  {
   "cell_type": "code",
   "execution_count": 9,
   "metadata": {
    "collapsed": false
   },
   "outputs": [
    {
     "name": "stdout",
     "output_type": "stream",
     "text": [
      "(343,121)"
     ]
    }
   ],
   "source": [
    "// If the function is more complex, we use a brace block\n",
    "val cubeOrSquare = (x: Int) => { if( x < 10 )\n",
    "                                    x*x*x\n",
    "                                 else\n",
    "                                    x*x }\n",
    "                                    \n",
    "print( cubeOrSquare(7), cubeOrSquare(11) )"
   ]
  },
  {
   "cell_type": "markdown",
   "metadata": {},
   "source": [
    "There is also a shorthand used in which we use the underscore (`_`) as a placeholder for anonymous arguments, and we skip the argument list. See [below](#Operations-on-collections)"
   ]
  },
  {
   "cell_type": "markdown",
   "metadata": {},
   "source": [
    "### Higher order functions\n",
    "\n",
    "These are functions that take another function as a paramete and/or return a function"
   ]
  },
  {
   "cell_type": "code",
   "execution_count": 5,
   "metadata": {
    "collapsed": false
   },
   "outputs": [
    {
     "name": "stdout",
     "output_type": "stream",
     "text": [
      "8"
     ]
    },
    {
     "data": {
      "text/plain": [
       "38"
      ]
     },
     "execution_count": 5,
     "metadata": {},
     "output_type": "execute_result"
    }
   ],
   "source": [
    "// A function that takes another function and a value, and applies the function to the square of the value \n",
    "def applySquared( func: Int => Int, value: Int) = func( value*value )\n",
    "\n",
    "// Prepare the function we will pass\n",
    "val minusOne = (x : Int) => x - 1\n",
    "\n",
    "// This should compute x^2 - 1\n",
    "print( applySquared( minusOne, 3 ) )\n",
    "\n",
    "// We can also pass directly an anonymous function. This is x^2 + 2\n",
    "applySquared( _ + 2, 6 )"
   ]
  },
  {
   "cell_type": "markdown",
   "metadata": {},
   "source": [
    "## Classes"
   ]
  },
  {
   "cell_type": "code",
   "execution_count": 3,
   "metadata": {
    "collapsed": false
   },
   "outputs": [
    {
     "name": "stdout",
     "output_type": "stream",
     "text": [
      "(12, 10)\n"
     ]
    }
   ],
   "source": [
    "/* Define a class */\n",
    "class Point( xc: Int, yc: Int ) {\n",
    "    var x: Int = xc\n",
    "    var y: Int = yc\n",
    "    def move(dx: Int, dy: Int) {\n",
    "        x = x + dx\n",
    "        y = y + dy\n",
    "    }\n",
    "    override def toString(): String = \"(\" + x + \", \" + y + \")\";\n",
    "}\n",
    "\n",
    "/* Create an instance, and operate with it */\n",
    "val p = new Point( 10, 11 )\n",
    "p.move( 2, -1 )\n",
    "println( p )"
   ]
  },
  {
   "cell_type": "markdown",
   "metadata": {},
   "source": [
    "## Collections\n",
    "\n",
    "See [Scala collections](http://docs.scala-lang.org/overviews/collections/introduction.html) for documentation."
   ]
  },
  {
   "cell_type": "code",
   "execution_count": 11,
   "metadata": {
    "collapsed": false
   },
   "outputs": [],
   "source": [
    "var l = List( 1, 2, 3, 4, 5 )"
   ]
  },
  {
   "cell_type": "code",
   "execution_count": 12,
   "metadata": {
    "collapsed": false
   },
   "outputs": [
    {
     "data": {
      "text/plain": [
       "List(5, 4, 3, 2, 1)"
      ]
     },
     "execution_count": 12,
     "metadata": {},
     "output_type": "execute_result"
    }
   ],
   "source": [
    "l.reverse"
   ]
  },
  {
   "cell_type": "code",
   "execution_count": 13,
   "metadata": {
    "collapsed": false
   },
   "outputs": [],
   "source": [
    "var s = Set( \"a\", \"b\", \"c\", \"d\")"
   ]
  },
  {
   "cell_type": "code",
   "execution_count": 14,
   "metadata": {
    "collapsed": false
   },
   "outputs": [
    {
     "data": {
      "text/plain": [
       "true"
      ]
     },
     "execution_count": 14,
     "metadata": {},
     "output_type": "execute_result"
    }
   ],
   "source": [
    "s.contains( \"c\" )"
   ]
  },
  {
   "cell_type": "code",
   "execution_count": 15,
   "metadata": {
    "collapsed": false
   },
   "outputs": [
    {
     "data": {
      "text/plain": [
       "Set(a, c)"
      ]
     },
     "execution_count": 15,
     "metadata": {},
     "output_type": "execute_result"
    }
   ],
   "source": [
    "s & Set(\"a\",\"c\",\"f\")"
   ]
  },
  {
   "cell_type": "markdown",
   "metadata": {},
   "source": [
    "### Ranges\n",
    "\n",
    "Ranges are collections of numerical elements"
   ]
  },
  {
   "cell_type": "code",
   "execution_count": 25,
   "metadata": {
    "collapsed": false
   },
   "outputs": [
    {
     "data": {
      "text/plain": [
       "Range(1, 2, 3, 4, 5, 6, 7, 8, 9)"
      ]
     },
     "execution_count": 25,
     "metadata": {},
     "output_type": "execute_result"
    }
   ],
   "source": [
    "val r = Range(1,10)\n",
    "\n",
    "r"
   ]
  },
  {
   "cell_type": "markdown",
   "metadata": {},
   "source": [
    "There is also a special syntax to define ranges using `to` or `until`"
   ]
  },
  {
   "cell_type": "code",
   "execution_count": 27,
   "metadata": {
    "collapsed": false
   },
   "outputs": [
    {
     "data": {
      "text/plain": [
       "Range(1, 2, 3, 4, 5, 6, 7, 8, 9, 10)"
      ]
     },
     "execution_count": 27,
     "metadata": {},
     "output_type": "execute_result"
    }
   ],
   "source": [
    "1 to 10"
   ]
  },
  {
   "cell_type": "code",
   "execution_count": 32,
   "metadata": {
    "collapsed": false
   },
   "outputs": [
    {
     "data": {
      "text/plain": [
       "Array(1.0, 1.5, 2.0, 2.5, 3.0, 3.5, 4.0, 4.5, 5.0, 5.5, 6.0, 6.5, 7.0, 7.5, 8.0, 8.5, 9.0, 9.5)"
      ]
     },
     "execution_count": 32,
     "metadata": {},
     "output_type": "execute_result"
    }
   ],
   "source": [
    "// define a range with a fractional increment, and convert the result to Array\n",
    "(1.0 until 10.0 by 0.5).toArray"
   ]
  },
  {
   "cell_type": "markdown",
   "metadata": {},
   "source": [
    "### Operations on collections\n",
    "\n",
    "Scala collection classes define abstract methods that apply to their contents.\n",
    "\n",
    "\n",
    "For instance, the `map` function is a higher order function, which takes a function as an argument and applies them to all elements in the collection:"
   ]
  },
  {
   "cell_type": "code",
   "execution_count": 12,
   "metadata": {
    "collapsed": false
   },
   "outputs": [
    {
     "data": {
      "text/plain": [
       "List(2, 4, 6, 8)"
      ]
     },
     "execution_count": 12,
     "metadata": {},
     "output_type": "execute_result"
    }
   ],
   "source": [
    "val numbers = List(1,2,3,4)\n",
    "\n",
    "// We use here an anonymous function\n",
    "numbers.map( x => 2 * x ) "
   ]
  },
  {
   "cell_type": "code",
   "execution_count": 13,
   "metadata": {
    "collapsed": false
   },
   "outputs": [
    {
     "data": {
      "text/plain": [
       "List(2, 4, 6, 8)"
      ]
     },
     "execution_count": 13,
     "metadata": {},
     "output_type": "execute_result"
    }
   ],
   "source": [
    "// Same, but now with the shorthand using the underscore, which is interpreted as a reference to an anonymous argument\n",
    "numbers.map( 2 * _ ) "
   ]
  },
  {
   "cell_type": "code",
   "execution_count": 16,
   "metadata": {
    "collapsed": false
   },
   "outputs": [
    {
     "data": {
      "text/plain": [
       "List(1, 2)"
      ]
     },
     "execution_count": 16,
     "metadata": {},
     "output_type": "execute_result"
    }
   ],
   "source": [
    "// Another example\n",
    "numbers.filter( _ <= 2 )"
   ]
  },
  {
   "cell_type": "markdown",
   "metadata": {},
   "source": [
    "Another variant: the `reduceLeft` function applies a binary operation (two parameters) successively, until all elements in the collection have been consumed:"
   ]
  },
  {
   "cell_type": "code",
   "execution_count": 16,
   "metadata": {
    "collapsed": false
   },
   "outputs": [
    {
     "data": {
      "text/plain": [
       "10"
      ]
     },
     "execution_count": 16,
     "metadata": {},
     "output_type": "execute_result"
    }
   ],
   "source": [
    "numbers.reduceLeft( (a, b) => a + b )"
   ]
  },
  {
   "cell_type": "code",
   "execution_count": 17,
   "metadata": {
    "collapsed": false
   },
   "outputs": [
    {
     "data": {
      "text/plain": [
       "10"
      ]
     },
     "execution_count": 17,
     "metadata": {},
     "output_type": "execute_result"
    }
   ],
   "source": [
    "// Again, using the underscore shorthand (each underscore refers to one of the two parameters)\n",
    "numbers.reduceLeft( _ + _ )"
   ]
  }
 ],
 "metadata": {
  "kernelspec": {
   "display_name": "Scala 2.10",
   "language": "",
   "name": "spark"
  },
  "language_info": {
   "name": "scala"
  }
 },
 "nbformat": 4,
 "nbformat_minor": 0
}
